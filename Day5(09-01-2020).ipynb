{
 "cells": [
  {
   "cell_type": "markdown",
   "metadata": {},
   "source": [
    "## Object oriented programming:\n",
    "### oop's concepts:\n",
    "1. class\n",
    "2. object\n",
    "3. polymorphism-->Function overloading,Method overloading,operator overloading,method overriding\n",
    "4. Inheritance-->single,multiple,multi-level,Hierarchical,Hybrid\n",
    "5. Encapsulation\n",
    "6. Abstraction\n",
    " "
   ]
  },
  {
   "cell_type": "code",
   "execution_count": 1,
   "metadata": {},
   "outputs": [
    {
     "data": {
      "text/plain": [
       "30"
      ]
     },
     "execution_count": 1,
     "metadata": {},
     "output_type": "execute_result"
    }
   ],
   "source": [
    "10 + 20"
   ]
  },
  {
   "cell_type": "code",
   "execution_count": 2,
   "metadata": {},
   "outputs": [
    {
     "data": {
      "text/plain": [
       "'abcxyz'"
      ]
     },
     "execution_count": 2,
     "metadata": {},
     "output_type": "execute_result"
    }
   ],
   "source": [
    "\"abc\"+\"xyz\""
   ]
  },
  {
   "cell_type": "code",
   "execution_count": 3,
   "metadata": {},
   "outputs": [
    {
     "data": {
      "text/plain": [
       "[1, 2, 3, 4, 5, 6]"
      ]
     },
     "execution_count": 3,
     "metadata": {},
     "output_type": "execute_result"
    }
   ],
   "source": [
    "[1,2,3]+[4,5,6]"
   ]
  },
  {
   "cell_type": "code",
   "execution_count": 5,
   "metadata": {},
   "outputs": [
    {
     "name": "stdout",
     "output_type": "stream",
     "text": [
      "60\n"
     ]
    }
   ],
   "source": [
    "#Function overloading\n",
    "def add(a,b):\n",
    "    return a+b\n",
    "def add(a,b,c):\n",
    "    return a+b+c\n",
    "#print(add(10,20))\n",
    "print(add(10,20,30))"
   ]
  },
  {
   "cell_type": "code",
   "execution_count": 23,
   "metadata": {},
   "outputs": [
    {
     "name": "stdout",
     "output_type": "stream",
     "text": [
      "60\n",
      "20\n"
     ]
    }
   ],
   "source": [
    "def add(*a):\n",
    "    s = 0\n",
    "    for i in a:\n",
    "        s+=i\n",
    "    return s\n",
    "\n",
    "print(add(10,20,30))#60\n",
    "print(add(2,3,4,5,6))#20\n"
   ]
  },
  {
   "cell_type": "code",
   "execution_count": null,
   "metadata": {},
   "outputs": [],
   "source": []
  },
  {
   "cell_type": "code",
   "execution_count": 6,
   "metadata": {},
   "outputs": [
    {
     "name": "stdout",
     "output_type": "stream",
     "text": [
      "this is class Abc display method\n"
     ]
    }
   ],
   "source": [
    "class Abc:\n",
    "    def display(self):\n",
    "        print(\"this is class Abc display method\")\n",
    "a = Abc()\n",
    "a.display()"
   ]
  },
  {
   "cell_type": "code",
   "execution_count": 8,
   "metadata": {},
   "outputs": [
    {
     "name": "stdout",
     "output_type": "stream",
     "text": [
      "my name is Preeti id is 101\n"
     ]
    }
   ],
   "source": [
    "class Abc:\n",
    "    name = \"Preeti\"\n",
    "    id = 101\n",
    "    def display(self):\n",
    "        print(\"my name is\",self.name,\"id is\",self.id)\n",
    "a = Abc()\n",
    "a.display()"
   ]
  },
  {
   "cell_type": "code",
   "execution_count": null,
   "metadata": {},
   "outputs": [],
   "source": []
  },
  {
   "cell_type": "markdown",
   "metadata": {},
   "source": [
    "## constructor:\n",
    "1. non-parameterized \n",
    "2. parameterized"
   ]
  },
  {
   "cell_type": "code",
   "execution_count": 7,
   "metadata": {},
   "outputs": [
    {
     "name": "stdout",
     "output_type": "stream",
     "text": [
      "constructor of the class\n",
      "this is class Abc display method\n"
     ]
    }
   ],
   "source": [
    "#non-parameterized constructor\n",
    "class Abc:\n",
    "    def __init__(self):\n",
    "        print(\"constructor of the class\")\n",
    "    def display(self):\n",
    "        print(\"this is class Abc display method\")\n",
    "a = Abc()\n",
    "a.display()"
   ]
  },
  {
   "cell_type": "code",
   "execution_count": 9,
   "metadata": {},
   "outputs": [
    {
     "name": "stdout",
     "output_type": "stream",
     "text": [
      "name is preeti id is 101\n"
     ]
    }
   ],
   "source": [
    "#parameterized constructor\n",
    "class Abc:\n",
    "    def __init__(self,name,id):\n",
    "        self.name=name\n",
    "        self.id=id\n",
    "    def display(self):\n",
    "        print(\"name is\",self.name,\"id is\",self.id)\n",
    "a = Abc(\"preeti\",101)\n",
    "a.display()"
   ]
  },
  {
   "cell_type": "code",
   "execution_count": 15,
   "metadata": {},
   "outputs": [
    {
     "name": "stdout",
     "output_type": "stream",
     "text": [
      "153.86\n",
      "43.96\n",
      "3\n"
     ]
    }
   ],
   "source": [
    "class Circle:\n",
    "    count = 0\n",
    "    def __init__(self,r):\n",
    "        self.r = r\n",
    "        Circle.count += 1\n",
    "    def area(self):\n",
    "        return 3.14*self.r*self.r\n",
    "    def perimeter(self):\n",
    "        return 2*3.14*self.r\n",
    "c = Circle(7)\n",
    "c1 = Circle(2)\n",
    "c2 = Circle(9)\n",
    "print(c.area())\n",
    "print(c.perimeter())\n",
    "print(Circle.count)"
   ]
  },
  {
   "cell_type": "code",
   "execution_count": 20,
   "metadata": {},
   "outputs": [
    {
     "data": {
      "text/plain": [
       "60"
      ]
     },
     "execution_count": 20,
     "metadata": {},
     "output_type": "execute_result"
    }
   ],
   "source": [
    "#Method overloading\n",
    "class Add:\n",
    "    def add(self,a,b):\n",
    "        return a+b\n",
    "    def add(self,a,b,c):\n",
    "        return a+b+c\n",
    "a = Add()\n",
    "#a.add(10,20)\n",
    "a.add(10,20,30)"
   ]
  },
  {
   "cell_type": "code",
   "execution_count": 25,
   "metadata": {},
   "outputs": [
    {
     "name": "stdout",
     "output_type": "stream",
     "text": [
      "Class A display method\n",
      "claas B display method\n",
      "claas B display method\n"
     ]
    }
   ],
   "source": [
    "#Method overriding\n",
    "class A:\n",
    "    def display(self):\n",
    "        print(\"Class A display method\")\n",
    "class B(A):\n",
    "    def display(self):\n",
    "        print(\"claas B display method\")\n",
    "a = A()\n",
    "b = B()\n",
    "a.display()\n",
    "b.display()\n",
    "b.display()"
   ]
  },
  {
   "cell_type": "code",
   "execution_count": 28,
   "metadata": {},
   "outputs": [
    {
     "data": {
      "text/plain": [
       "(40, 60)"
      ]
     },
     "execution_count": 28,
     "metadata": {},
     "output_type": "execute_result"
    }
   ],
   "source": [
    "#Operator overloading\n",
    "class A:\n",
    "    def __init__(self,a,b):\n",
    "        self.a = a\n",
    "        self.b = b\n",
    "    def __add__(self,other):\n",
    "        return self.a+other.a , self.b+other.b\n",
    "        \n",
    "    \n",
    "obj1 = A(10,20)\n",
    "obj2 = A(30,40)\n",
    "obj1 + obj2"
   ]
  }
 ],
 "metadata": {
  "kernelspec": {
   "display_name": "Python 3",
   "language": "python",
   "name": "python3"
  },
  "language_info": {
   "codemirror_mode": {
    "name": "ipython",
    "version": 3
   },
   "file_extension": ".py",
   "mimetype": "text/x-python",
   "name": "python",
   "nbconvert_exporter": "python",
   "pygments_lexer": "ipython3",
   "version": "3.7.3"
  }
 },
 "nbformat": 4,
 "nbformat_minor": 2
}
