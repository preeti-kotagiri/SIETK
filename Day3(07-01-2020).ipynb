{
 "cells": [
  {
   "cell_type": "markdown",
   "metadata": {},
   "source": [
    "## Tuple:\n",
    "1. Tuples can be created using ()\n",
    "2. Tuples are immutable\n",
    "3. Tuple can contain heterogenous values\n",
    "4. It allows duplicate values\n",
    "5. Tuples are indexed and ordered"
   ]
  },
  {
   "cell_type": "code",
   "execution_count": 3,
   "metadata": {},
   "outputs": [
    {
     "name": "stdout",
     "output_type": "stream",
     "text": [
      "456\n",
      "34.67\n",
      "abc\n"
     ]
    }
   ],
   "source": [
    "tup1 = (456,34.67,\"abc\")\n",
    "type(tup1)\n",
    "x,y,z = tup1\n",
    "print(x)\n",
    "print(y)\n",
    "print(z)"
   ]
  },
  {
   "cell_type": "code",
   "execution_count": null,
   "metadata": {},
   "outputs": [],
   "source": [
    "x,y,z = 12,23,34"
   ]
  },
  {
   "cell_type": "code",
   "execution_count": 2,
   "metadata": {},
   "outputs": [
    {
     "data": {
      "text/plain": [
       "tuple"
      ]
     },
     "execution_count": 2,
     "metadata": {},
     "output_type": "execute_result"
    }
   ],
   "source": [
    "#By default it considers tuple\n",
    "x = 1,2,3\n",
    "type(x)"
   ]
  },
  {
   "cell_type": "code",
   "execution_count": 5,
   "metadata": {},
   "outputs": [
    {
     "name": "stdout",
     "output_type": "stream",
     "text": [
      "(34, 23, 12, 56, 78)\n"
     ]
    }
   ],
   "source": [
    "#Adding elements to tuple\n",
    "tup1 = (34,23,12)\n",
    "tup2 = (56,78)\n",
    "tup1 = tup1+tup2\n",
    "print(tup1)"
   ]
  },
  {
   "cell_type": "markdown",
   "metadata": {},
   "source": [
    "## Built-in methods:\n",
    "1. count()\n",
    "2. index()"
   ]
  },
  {
   "cell_type": "code",
   "execution_count": 6,
   "metadata": {},
   "outputs": [
    {
     "data": {
      "text/plain": [
       "1"
      ]
     },
     "execution_count": 6,
     "metadata": {},
     "output_type": "execute_result"
    }
   ],
   "source": [
    "tup1.count(12)"
   ]
  },
  {
   "cell_type": "code",
   "execution_count": 7,
   "metadata": {},
   "outputs": [
    {
     "data": {
      "text/plain": [
       "2"
      ]
     },
     "execution_count": 7,
     "metadata": {},
     "output_type": "execute_result"
    }
   ],
   "source": [
    "tup1.index(12)"
   ]
  },
  {
   "cell_type": "code",
   "execution_count": 52,
   "metadata": {},
   "outputs": [
    {
     "name": "stdout",
     "output_type": "stream",
     "text": [
      "<class 'int'>\n",
      "<class 'tuple'>\n"
     ]
    }
   ],
   "source": [
    "#Tuple with single value\n",
    "tup3 = (10)\n",
    "print(type(tup3))\n",
    "tup3 = (10,)\n",
    "print(type(tup3))"
   ]
  },
  {
   "cell_type": "markdown",
   "metadata": {},
   "source": [
    "## set\n",
    "1. all the elements are enclosed with {}\n",
    "2. sets are unordered and unindexed\n",
    "3. sets does not allows duplicate values\n",
    "4. we can store heteregenous type values in set"
   ]
  },
  {
   "cell_type": "code",
   "execution_count": 12,
   "metadata": {},
   "outputs": [
    {
     "name": "stdout",
     "output_type": "stream",
     "text": [
      "{56, 34, 334}\n"
     ]
    }
   ],
   "source": [
    "s1 = {334,56,34,34}\n",
    "print(s1)"
   ]
  },
  {
   "cell_type": "markdown",
   "metadata": {},
   "source": [
    "### Buit-in methods\n",
    "1. add\n",
    "2. clear\n",
    "3. copy\n",
    "4. difference\n",
    "5. difference_update\n",
    "6. discard\n",
    "7. intersection\n",
    "8. intersection_update\n",
    "9. isdisjoint\n",
    "10. issubset\n",
    "11. issuperset\n",
    "12. pop\n",
    "13. remove\n",
    "14. symmetric_difference\n",
    "15. symmetric_difference_update\n",
    "16. union"
   ]
  },
  {
   "cell_type": "code",
   "execution_count": 13,
   "metadata": {},
   "outputs": [
    {
     "name": "stdout",
     "output_type": "stream",
     "text": [
      "{56, 34, 100, 334}\n"
     ]
    }
   ],
   "source": [
    "s1.add(100)\n",
    "print(s1)"
   ]
  },
  {
   "cell_type": "code",
   "execution_count": 17,
   "metadata": {},
   "outputs": [
    {
     "name": "stdout",
     "output_type": "stream",
     "text": [
      "{1, 2}\n",
      "{4, 5}\n",
      "{3}\n",
      "{1, 2, 3, 4, 5}\n"
     ]
    }
   ],
   "source": [
    "a = {1,2,3}\n",
    "b = {3,4,5}\n",
    "s = {1,2,3,4,5}\n",
    "print(a.difference(b))#a-b\n",
    "print(b.difference(a))#b-a\n",
    "print(a.intersection(b))\n",
    "print(a.union(b))"
   ]
  },
  {
   "cell_type": "code",
   "execution_count": 21,
   "metadata": {},
   "outputs": [
    {
     "name": "stdout",
     "output_type": "stream",
     "text": [
      "True\n",
      "True\n",
      "False\n",
      "False\n"
     ]
    }
   ],
   "source": [
    "print(a.issubset(s))\n",
    "print(s.issuperset(a))\n",
    "print(b.issubset(a))\n",
    "print(a.isdisjoint(b))"
   ]
  },
  {
   "cell_type": "code",
   "execution_count": 27,
   "metadata": {},
   "outputs": [
    {
     "name": "stdout",
     "output_type": "stream",
     "text": [
      "None\n",
      "{1, 2, 3} {4, 5}\n"
     ]
    }
   ],
   "source": [
    "a = {1,2,3}\n",
    "b = {3,4,5}\n",
    "print(b.difference_update(a))\n",
    "print(a,b)"
   ]
  },
  {
   "cell_type": "code",
   "execution_count": 38,
   "metadata": {},
   "outputs": [
    {
     "name": "stdout",
     "output_type": "stream",
     "text": [
      "{1, 2, 3, 4, 5} {3, 4, 5}\n"
     ]
    }
   ],
   "source": [
    "a = {1,2,3}\n",
    "b = {3,4,5}\n",
    "a.update(b)\n",
    "print(a,b)"
   ]
  },
  {
   "cell_type": "code",
   "execution_count": 40,
   "metadata": {},
   "outputs": [
    {
     "data": {
      "text/plain": [
       "{1, 2, 4, 5}"
      ]
     },
     "execution_count": 40,
     "metadata": {},
     "output_type": "execute_result"
    }
   ],
   "source": [
    "a = {1,2,3}\n",
    "b = {3,4,5}\n",
    "a.symmetric_difference(b)"
   ]
  },
  {
   "cell_type": "code",
   "execution_count": 41,
   "metadata": {},
   "outputs": [
    {
     "name": "stdout",
     "output_type": "stream",
     "text": [
      "{1, 2, 4, 5} {3, 4, 5}\n"
     ]
    }
   ],
   "source": [
    "a = {1,2,3}\n",
    "b = {3,4,5}\n",
    "a.symmetric_difference_update(b)\n",
    "print(a,b)"
   ]
  },
  {
   "cell_type": "code",
   "execution_count": 42,
   "metadata": {},
   "outputs": [
    {
     "name": "stdout",
     "output_type": "stream",
     "text": [
      "{1, 2}\n"
     ]
    }
   ],
   "source": [
    "a = {1,2,3}\n",
    "a.discard(3)\n",
    "print(a)"
   ]
  },
  {
   "cell_type": "markdown",
   "metadata": {},
   "source": [
    "## Dictionary\n",
    "##### syntax: name = {key1:value1,key2:value2,.....}\n",
    "key-value pair -->entry\n",
    "##### keys:\n",
    "1. keys should be unique\n",
    "2. keys should be immutable(numerics,string and tuple)"
   ]
  },
  {
   "cell_type": "code",
   "execution_count": 28,
   "metadata": {},
   "outputs": [
    {
     "name": "stdout",
     "output_type": "stream",
     "text": [
      "{'name': 'abc', 'place': 'hyd'}\n"
     ]
    }
   ],
   "source": [
    "dict1 = {\"name\":\"preeti\",\"place\":\"hyd\",\"name\":\"abc\"}\n",
    "print(dict1)"
   ]
  },
  {
   "cell_type": "code",
   "execution_count": 29,
   "metadata": {},
   "outputs": [
    {
     "name": "stdout",
     "output_type": "stream",
     "text": [
      "{'name': 'abc', 'place': 'hyd', 'course': 'python'}\n"
     ]
    }
   ],
   "source": [
    "#Adding entries\n",
    "dict1[\"course\"] = \"python\"\n",
    "print(dict1)"
   ]
  },
  {
   "cell_type": "code",
   "execution_count": 30,
   "metadata": {},
   "outputs": [
    {
     "name": "stdout",
     "output_type": "stream",
     "text": [
      "{'name': 'abc', 'place': 'banglore', 'course': 'python'}\n"
     ]
    }
   ],
   "source": [
    "#Updating an entry\n",
    "dict1[\"place\"] = \"banglore\"\n",
    "print(dict1)"
   ]
  },
  {
   "cell_type": "code",
   "execution_count": 31,
   "metadata": {},
   "outputs": [
    {
     "name": "stdout",
     "output_type": "stream",
     "text": [
      "{'place': 'banglore', 'course': 'python'}\n"
     ]
    }
   ],
   "source": [
    "#Removing an entry\n",
    "del dict1[\"name\"]\n",
    "print(dict1)"
   ]
  },
  {
   "cell_type": "markdown",
   "metadata": {},
   "source": [
    "## Built-in methods:\n",
    "1. clear\n",
    "2. copy\n",
    "3. fromkeys\n",
    "4. get\n",
    "5. items\n",
    "6. keys\n",
    "7. pop\n",
    "8. popitem\n",
    "9. setdefault\n",
    "10. update\n",
    "11. values"
   ]
  },
  {
   "cell_type": "code",
   "execution_count": 32,
   "metadata": {},
   "outputs": [
    {
     "name": "stdout",
     "output_type": "stream",
     "text": [
      "dict_keys(['place', 'course'])\n",
      "dict_values(['banglore', 'python'])\n",
      "dict_items([('place', 'banglore'), ('course', 'python')])\n"
     ]
    }
   ],
   "source": [
    "print(dict1.keys())\n",
    "print(dict1.values())\n",
    "print(dict1.items())"
   ]
  },
  {
   "cell_type": "code",
   "execution_count": 33,
   "metadata": {},
   "outputs": [
    {
     "data": {
      "text/plain": [
       "'banglore'"
      ]
     },
     "execution_count": 33,
     "metadata": {},
     "output_type": "execute_result"
    }
   ],
   "source": [
    "dict1.get(\"place\")"
   ]
  },
  {
   "cell_type": "code",
   "execution_count": 57,
   "metadata": {},
   "outputs": [
    {
     "name": "stdout",
     "output_type": "stream",
     "text": [
      "{'name': 'preeti', 'place': 'hyd', 'course': 'python'}\n",
      "{'name': 'preeti', 'place': 'hyd'}\n"
     ]
    }
   ],
   "source": [
    "dict1 = {\"name\":\"preeti\",\"place\":\"hyd\",\"course\":\"python\"}\n",
    "print(dict1)\n",
    "dict1.pop(\"course\")\n",
    "print(dict1)"
   ]
  },
  {
   "cell_type": "code",
   "execution_count": 58,
   "metadata": {},
   "outputs": [
    {
     "data": {
      "text/plain": [
       "('place', 'hyd')"
      ]
     },
     "execution_count": 58,
     "metadata": {},
     "output_type": "execute_result"
    }
   ],
   "source": [
    "dict1.popitem()"
   ]
  },
  {
   "cell_type": "markdown",
   "metadata": {},
   "source": [
    "### Questions on loops:"
   ]
  },
  {
   "cell_type": "code",
   "execution_count": 35,
   "metadata": {},
   "outputs": [
    {
     "name": "stdout",
     "output_type": "stream",
     "text": [
      "1 2 3 4 5 6 7 8 9 10 else block\n"
     ]
    }
   ],
   "source": [
    "#else block with while loop\n",
    "n = 10\n",
    "i = 1\n",
    "while i<=n:\n",
    "    print(i,end=\" \")\n",
    "    i+=1\n",
    "else:\n",
    "    print(\"else block\")"
   ]
  },
  {
   "cell_type": "code",
   "execution_count": 44,
   "metadata": {},
   "outputs": [
    {
     "name": "stdout",
     "output_type": "stream",
     "text": [
      "121\n",
      "palindrome\n"
     ]
    }
   ],
   "source": [
    "#Accept a number as an input and check whether the \n",
    "# given number is palindrome or not\n",
    "n = int(input())\n",
    "temp = n\n",
    "rev = 0\n",
    "while n!=0:\n",
    "    rev = rev*10 + (n%10)\n",
    "    n = n//10\n",
    "if temp == rev:\n",
    "    print(\"palindrome\")\n",
    "else:\n",
    "    print(\"not palindrome\")"
   ]
  },
  {
   "cell_type": "code",
   "execution_count": 46,
   "metadata": {},
   "outputs": [
    {
     "name": "stdout",
     "output_type": "stream",
     "text": [
      "palindrome\n"
     ]
    }
   ],
   "source": [
    "if str(n)==str(n)[::-1]:\n",
    "    print(\"palindrome\")"
   ]
  },
  {
   "cell_type": "code",
   "execution_count": 49,
   "metadata": {},
   "outputs": [
    {
     "name": "stdout",
     "output_type": "stream",
     "text": [
      "123456\n",
      "12\n"
     ]
    }
   ],
   "source": [
    "#Accept a number and print sum of even digits in the given numbe\n",
    "n = int(input())\n",
    "s = 0\n",
    "while n!=0:\n",
    "    r = n%10\n",
    "    if r%2==0:\n",
    "        s += r\n",
    "    n //= 10\n",
    "print(s)"
   ]
  },
  {
   "cell_type": "code",
   "execution_count": 51,
   "metadata": {},
   "outputs": [
    {
     "name": "stdout",
     "output_type": "stream",
     "text": [
      "20\n",
      "1 2 fizz 4 buzz fizz 7 8 fizz buzz 11 fizz 13 14 fizzbuzz 16 17 fizz 19 buzz "
     ]
    }
   ],
   "source": [
    "n = int(input())\n",
    "for i in range(1,n+1):\n",
    "    if i%3==0 and i%5==0:\n",
    "        print(\"fizzbuzz\",end=\" \")\n",
    "    elif i%3==0:\n",
    "        print(\"fizz\",end=\" \")\n",
    "    elif i%5==0:\n",
    "        print(\"buzz\",end=\" \")\n",
    "    else:\n",
    "        print(i,end=\" \")"
   ]
  },
  {
   "cell_type": "markdown",
   "metadata": {},
   "source": [
    "## Questions for practice:\n",
    "1. Accept a number as an input and print factors of the given number\n",
    "2. Accept a number as an input and check whether the given number is perfect or not?\n",
    "    -input:6(1+2+3=6)\n",
    "    -output:YES\n",
    "3. Accept a number as an input and print factorial of the given number\n",
    "4. Accept a number as an input and check whether the given number is strong number or not\n",
    "    -input : 145\n",
    "    -output : yes\n",
    "    explanation : 1!+4!+5!=1+24+120=145\n",
    "5. Accept a number as an input and check whether the given number is armstrong number or not"
   ]
  }
 ],
 "metadata": {
  "kernelspec": {
   "display_name": "Python 3",
   "language": "python",
   "name": "python3"
  },
  "language_info": {
   "codemirror_mode": {
    "name": "ipython",
    "version": 3
   },
   "file_extension": ".py",
   "mimetype": "text/x-python",
   "name": "python",
   "nbconvert_exporter": "python",
   "pygments_lexer": "ipython3",
   "version": "3.7.3"
  }
 },
 "nbformat": 4,
 "nbformat_minor": 2
}
