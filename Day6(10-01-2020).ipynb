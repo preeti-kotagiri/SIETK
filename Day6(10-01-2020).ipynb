{
 "cells": [
  {
   "cell_type": "markdown",
   "metadata": {
    "slideshow": {
     "slide_type": "fragment"
    }
   },
   "source": [
    "## Inheritance:\n",
    "1. single\n",
    "2. multi-level\n",
    "3. multiple\n",
    "4. Hierarchical\n",
    "5. Hybrid"
   ]
  },
  {
   "cell_type": "code",
   "execution_count": 2,
   "metadata": {},
   "outputs": [
    {
     "name": "stdout",
     "output_type": "stream",
     "text": [
      "display1\n"
     ]
    }
   ],
   "source": [
    "#single inheritance\n",
    "class A:\n",
    "    def display1(self):\n",
    "        print(\"display1\")\n",
    "class B(A):\n",
    "    def display2(self):\n",
    "        print(\"display2\")\n",
    "b = B()\n",
    "a = A()\n",
    "b.display1()"
   ]
  },
  {
   "cell_type": "code",
   "execution_count": null,
   "metadata": {},
   "outputs": [],
   "source": [
    "#multi-level inheritance\n",
    "class A:\n",
    "    def display1(self):\n",
    "        print(\"display1\")\n",
    "class B(A):\n",
    "    def display2(self):\n",
    "        print(\"display2\")\n",
    "class C(B):\n",
    "    def display3(self):\n",
    "        print(\"display3\") \n",
    "c = C()\n"
   ]
  },
  {
   "cell_type": "code",
   "execution_count": 5,
   "metadata": {},
   "outputs": [
    {
     "name": "stdout",
     "output_type": "stream",
     "text": [
      "display3\n"
     ]
    }
   ],
   "source": [
    "#Multiple inheritance\n",
    "class A:\n",
    "    def display(self):\n",
    "        print(\"class A display1\")\n",
    "class B:\n",
    "    def display(self):\n",
    "        print(\"class B display2\")\n",
    "class C(B,A):\n",
    "    def display(self):\n",
    "        print(\"display3\") \n",
    "c = C()\n",
    "c.display()"
   ]
  },
  {
   "cell_type": "code",
   "execution_count": null,
   "metadata": {},
   "outputs": [],
   "source": [
    "#Hierarchical inheritance\n",
    "class A:\n",
    "    def display1(self):\n",
    "        print(\"class A display1\")\n",
    "class B(A):\n",
    "    def display2(self):\n",
    "        print(\"class B display2\")\n",
    "class C(A):\n",
    "    def display3(self):\n",
    "        print(\"display3\")\n",
    "class D(A):\n",
    "    def display4(self):\n",
    "        print(\"display4\")\n",
    "\n",
    "    "
   ]
  },
  {
   "cell_type": "code",
   "execution_count": null,
   "metadata": {},
   "outputs": [],
   "source": [
    "#Hybrid inheritance\n",
    "class A:\n",
    "    def display1(self):\n",
    "        print(\"class A display1\")\n",
    "class B(A):\n",
    "    def display2(self):\n",
    "        print(\"class B display2\")\n",
    "class C(B):\n",
    "    def display3(self):\n",
    "        print(\"display3\") \n",
    "class D(B):\n",
    "    def display4(self):\n",
    "        print(\"display4\")"
   ]
  },
  {
   "cell_type": "markdown",
   "metadata": {},
   "source": [
    "## Abstraction:\n",
    "- Data hiding"
   ]
  },
  {
   "cell_type": "code",
   "execution_count": 8,
   "metadata": {},
   "outputs": [
    {
     "name": "stdout",
     "output_type": "stream",
     "text": [
      "2\n"
     ]
    }
   ],
   "source": [
    "class A:\n",
    "    __count = 0\n",
    "    def __init__(self):\n",
    "        A.__count += 1\n",
    "a = A()\n",
    "b = A()\n",
    "print(a._A__count)"
   ]
  },
  {
   "cell_type": "markdown",
   "metadata": {},
   "source": [
    "## Encapsulation:\n",
    "1. Binding members and methods into a single unit\n",
    "2. class --> Data members(varibles) , methods(function)"
   ]
  },
  {
   "cell_type": "markdown",
   "metadata": {},
   "source": [
    "### Types of errors:\n",
    "1. compile time\n",
    "2. logical\n",
    "3. Runtime"
   ]
  },
  {
   "cell_type": "markdown",
   "metadata": {},
   "source": [
    "## Exception handling:\n",
    "1. try\n",
    "2. except-->4ways\n",
    "3. finally\n",
    "4. else"
   ]
  },
  {
   "cell_type": "code",
   "execution_count": 31,
   "metadata": {},
   "outputs": [
    {
     "name": "stdout",
     "output_type": "stream",
     "text": [
      "0.5\n",
      "the given variable name is not defined : name 'w' is not defined\n"
     ]
    }
   ],
   "source": [
    "try:\n",
    "    a = 10\n",
    "    b = 20\n",
    "    print(a/b)\n",
    "    print(w)\n",
    "except ZeroDivisionError as e:\n",
    "    print(\"Zero division error:\",e)\n",
    "except NameError as e:\n",
    "    print(\"the given variable name is not defined :\",e)"
   ]
  },
  {
   "cell_type": "code",
   "execution_count": 35,
   "metadata": {},
   "outputs": [
    {
     "name": "stdout",
     "output_type": "stream",
     "text": [
      "0.5\n",
      "Zero division error or Name error\n"
     ]
    }
   ],
   "source": [
    "try:\n",
    "    d = {1:2}\n",
    "    a = 10\n",
    "    b = 20\n",
    "    print(a/b)\n",
    "    print(d[2])\n",
    "except (ZeroDivisionError,NameError,KeyError):\n",
    "    print(\"Zero division error or Name error\")"
   ]
  },
  {
   "cell_type": "code",
   "execution_count": 38,
   "metadata": {},
   "outputs": [
    {
     "name": "stdout",
     "output_type": "stream",
     "text": [
      "0.5\n",
      "this is else block\n",
      "this is finally block\n"
     ]
    }
   ],
   "source": [
    "a = 10\n",
    "b = 20\n",
    "try:\n",
    "    print(a/b)\n",
    "except:\n",
    "    print(\"zero division error\")\n",
    "else:\n",
    "    print(\"this is else block\")\n",
    "finally:\n",
    "    print(\"this is finally block\")"
   ]
  },
  {
   "cell_type": "markdown",
   "metadata": {},
   "source": [
    "## raising an exception"
   ]
  },
  {
   "cell_type": "code",
   "execution_count": 40,
   "metadata": {},
   "outputs": [
    {
     "ename": "ZeroDivisionError",
     "evalue": "cannot divide a number by 0",
     "output_type": "error",
     "traceback": [
      "\u001b[1;31m---------------------------------------------------------------------------\u001b[0m",
      "\u001b[1;31mZeroDivisionError\u001b[0m                         Traceback (most recent call last)",
      "\u001b[1;32m<ipython-input-40-ead7ca3f171a>\u001b[0m in \u001b[0;36m<module>\u001b[1;34m\u001b[0m\n\u001b[1;32m----> 1\u001b[1;33m \u001b[1;32mraise\u001b[0m \u001b[0mZeroDivisionError\u001b[0m\u001b[1;33m(\u001b[0m\u001b[1;34m\"cannot divide a number by 0\"\u001b[0m\u001b[1;33m)\u001b[0m\u001b[1;33m\u001b[0m\u001b[1;33m\u001b[0m\u001b[0m\n\u001b[0m",
      "\u001b[1;31mZeroDivisionError\u001b[0m: cannot divide a number by 0"
     ]
    }
   ],
   "source": [
    "raise ZeroDivisionError(\"cannot divide a number by 0\")"
   ]
  },
  {
   "cell_type": "code",
   "execution_count": 43,
   "metadata": {},
   "outputs": [
    {
     "name": "stdout",
     "output_type": "stream",
     "text": [
      "[36, 16, 64, 4, 36]\n"
     ]
    }
   ],
   "source": [
    "# List comprehensions\n",
    "list1 = [6,4,1,11,8,2,6,5]\n",
    "list2 = []\n",
    "for i in list1:\n",
    "    if i%2==0:\n",
    "        list2.append(i**2)\n",
    "print(list2)"
   ]
  },
  {
   "cell_type": "code",
   "execution_count": 44,
   "metadata": {},
   "outputs": [
    {
     "name": "stdout",
     "output_type": "stream",
     "text": [
      "[36, 16, 64, 4, 36]\n"
     ]
    }
   ],
   "source": [
    "list3 = [i**2 for i in list1 if i%2==0]\n",
    "print(list3)"
   ]
  },
  {
   "cell_type": "code",
   "execution_count": 46,
   "metadata": {},
   "outputs": [
    {
     "name": "stdout",
     "output_type": "stream",
     "text": [
      "Python Class\n"
     ]
    }
   ],
   "source": [
    "class Test:\n",
    "     def __init__(self, s):\n",
    "            self.s = s\n",
    " \n",
    "     def print(self):\n",
    "         print(self.s)\n",
    "\n",
    "a = Test(\"Python Class\")\n",
    "a.print()"
   ]
  }
 ],
 "metadata": {
  "kernelspec": {
   "display_name": "Python 3",
   "language": "python",
   "name": "python3"
  },
  "language_info": {
   "codemirror_mode": {
    "name": "ipython",
    "version": 3
   },
   "file_extension": ".py",
   "mimetype": "text/x-python",
   "name": "python",
   "nbconvert_exporter": "python",
   "pygments_lexer": "ipython3",
   "version": "3.7.3"
  }
 },
 "nbformat": 4,
 "nbformat_minor": 2
}
